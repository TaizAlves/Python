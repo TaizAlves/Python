{
  "nbformat": 4,
  "nbformat_minor": 0,
  "metadata": {
    "colab": {
      "name": "aula15 -Integrando Google Colab e Google Planilhas (spreadsheet)_importadocotação_eDadosdasempresasfundamentalista.ipynb",
      "provenance": [],
      "toc_visible": true,
      "include_colab_link": true
    },
    "kernelspec": {
      "name": "python3",
      "display_name": "Python 3"
    }
  },
  "cells": [
    {
      "cell_type": "markdown",
      "metadata": {
        "id": "view-in-github",
        "colab_type": "text"
      },
      "source": [
        "<a href=\"https://colab.research.google.com/github/TaizAlves/python/blob/master/aula15_Integrando_Google_Colab_e_Google_Planilhas_importadocota%C3%A7%C3%A3o_eDadosdasempresasfundamentalista.ipynb\" target=\"_parent\"><img src=\"https://colab.research.google.com/assets/colab-badge.svg\" alt=\"Open In Colab\"/></a>"
      ]
    },
    {
      "cell_type": "markdown",
      "metadata": {
        "id": "jAFCrMR4lhOk"
      },
      "source": [
        "#Ricos pelo Acaso\n",
        "* Link para o vídeo: https://youtu.be/HlhbsrJ4_PQ"
      ]
    },
    {
      "cell_type": "markdown",
      "metadata": {
        "id": "xdIDjdI1Uq5Y"
      },
      "source": [
        ">Instalando `gspread`"
      ]
    },
    {
      "cell_type": "code",
      "metadata": {
        "id": "8f78dBjnA3Y-",
        "outputId": "56c16290-df83-49b1-9367-f6a3e28ac6e2",
        "colab": {
          "base_uri": "https://localhost:8080/"
        }
      },
      "source": [
        "!pip install gspread"
      ],
      "execution_count": 4,
      "outputs": [
        {
          "output_type": "stream",
          "text": [
            "Requirement already satisfied: gspread in /usr/local/lib/python3.6/dist-packages (3.0.1)\n",
            "Requirement already satisfied: requests>=2.2.1 in /usr/local/lib/python3.6/dist-packages (from gspread) (2.23.0)\n",
            "Requirement already satisfied: idna<3,>=2.5 in /usr/local/lib/python3.6/dist-packages (from requests>=2.2.1->gspread) (2.10)\n",
            "Requirement already satisfied: urllib3!=1.25.0,!=1.25.1,<1.26,>=1.21.1 in /usr/local/lib/python3.6/dist-packages (from requests>=2.2.1->gspread) (1.24.3)\n",
            "Requirement already satisfied: certifi>=2017.4.17 in /usr/local/lib/python3.6/dist-packages (from requests>=2.2.1->gspread) (2020.6.20)\n",
            "Requirement already satisfied: chardet<4,>=3.0.2 in /usr/local/lib/python3.6/dist-packages (from requests>=2.2.1->gspread) (3.0.4)\n"
          ],
          "name": "stdout"
        }
      ]
    },
    {
      "cell_type": "markdown",
      "metadata": {
        "id": "40vthssCUv1X"
      },
      "source": [
        ">Importando as Bibliotecas"
      ]
    },
    {
      "cell_type": "code",
      "metadata": {
        "id": "VgLSPFycA9SJ"
      },
      "source": [
        "from google.colab import auth\n",
        "import gspread\n",
        "from oauth2client.client import GoogleCredentials"
      ],
      "execution_count": 5,
      "outputs": []
    },
    {
      "cell_type": "markdown",
      "metadata": {
        "id": "R2du4Rvuxq4h"
      },
      "source": [
        ">Realizando a Autenticação"
      ]
    },
    {
      "cell_type": "code",
      "metadata": {
        "id": "bJGFIHvJxcfo"
      },
      "source": [
        "auth.authenticate_user()\n",
        "gc = gspread.authorize(GoogleCredentials.get_application_default())"
      ],
      "execution_count": 6,
      "outputs": []
    },
    {
      "cell_type": "markdown",
      "metadata": {
        "id": "SBpuhBm9U8cg"
      },
      "source": [
        ">Criando uma planilha vazia"
      ]
    },
    {
      "cell_type": "code",
      "metadata": {
        "id": "PpVsOifeBB0m",
        "outputId": "ec175888-ae1c-4d87-acb3-813f6beab574",
        "colab": {
          "base_uri": "https://localhost:8080/",
          "height": 34
        }
      },
      "source": [
        "gc.create('Planilha01')"
      ],
      "execution_count": null,
      "outputs": [
        {
          "output_type": "execute_result",
          "data": {
            "text/plain": [
              "<Spreadsheet 'Planilha01' id:19pRZ5GYD4cGGa-p2yoiuy05sKefT6w-XFUpi04jPlgE>"
            ]
          },
          "metadata": {
            "tags": []
          },
          "execution_count": 4
        }
      ]
    },
    {
      "cell_type": "markdown",
      "metadata": {
        "id": "PLGoqsjliO8P"
      },
      "source": [
        ">Abrindo uma Planilha"
      ]
    },
    {
      "cell_type": "code",
      "metadata": {
        "id": "WCxNYLZCiPBv"
      },
      "source": [
        "planilha = gc.open('Planilha01')"
      ],
      "execution_count": null,
      "outputs": []
    },
    {
      "cell_type": "markdown",
      "metadata": {
        "id": "4qHcboXCVZ_j"
      },
      "source": [
        ">Adicionando uma nova Página\n",
        "\n"
      ]
    },
    {
      "cell_type": "code",
      "metadata": {
        "id": "gSLxsA5sVfuR",
        "outputId": "9fec4a45-58f6-4a39-be01-df732dead789",
        "colab": {
          "base_uri": "https://localhost:8080/",
          "height": 34
        }
      },
      "source": [
        "planilha.add_worksheet('nova_pagina', 10, 5)"
      ],
      "execution_count": null,
      "outputs": [
        {
          "output_type": "execute_result",
          "data": {
            "text/plain": [
              "<Worksheet 'nova_pagina' id:40256675>"
            ]
          },
          "metadata": {
            "tags": []
          },
          "execution_count": 7
        }
      ]
    },
    {
      "cell_type": "markdown",
      "metadata": {
        "id": "UtRICcfNaMOq"
      },
      "source": [
        ">Selecionando uma Página"
      ]
    },
    {
      "cell_type": "code",
      "metadata": {
        "id": "dGhngLzmhJO1"
      },
      "source": [
        "pagina1 = planilha.get_worksheet(0)"
      ],
      "execution_count": null,
      "outputs": []
    },
    {
      "cell_type": "markdown",
      "metadata": {
        "id": "hkWy8KOCi4py"
      },
      "source": [
        ">Apagando uma Página"
      ]
    },
    {
      "cell_type": "code",
      "metadata": {
        "id": "6HvqjzJghZZH",
        "outputId": "b118859d-0405-4385-973e-ff48182b7377",
        "colab": {
          "base_uri": "https://localhost:8080/",
          "height": 51
        }
      },
      "source": [
        "planilha.del_worksheet(pagina1)"
      ],
      "execution_count": null,
      "outputs": [
        {
          "output_type": "execute_result",
          "data": {
            "text/plain": [
              "{'replies': [{}],\n",
              " 'spreadsheetId': '19pRZ5GYD4cGGa-p2yoiuy05sKefT6w-XFUpi04jPlgE'}"
            ]
          },
          "metadata": {
            "tags": []
          },
          "execution_count": 9
        }
      ]
    },
    {
      "cell_type": "markdown",
      "metadata": {
        "id": "4-B4RpqpaOu5"
      },
      "source": [
        ">Alterando os valores das células"
      ]
    },
    {
      "cell_type": "markdown",
      "metadata": {
        "id": "TkU-D5Zhkle4"
      },
      "source": [
        ">>1º passo: selecionar a página"
      ]
    },
    {
      "cell_type": "code",
      "metadata": {
        "id": "BMNOIhJKjIQL"
      },
      "source": [
        "nova_pagina = planilha.get_worksheet(0)"
      ],
      "execution_count": null,
      "outputs": []
    },
    {
      "cell_type": "markdown",
      "metadata": {
        "id": "Xx7MhtXaktQp"
      },
      "source": [
        ">>`update_acell()`: pelo código da célula"
      ]
    },
    {
      "cell_type": "code",
      "metadata": {
        "id": "9w9LPmdRZtuQ",
        "outputId": "60dc71a4-0f2a-4c78-c16d-a168e6436a1e",
        "colab": {
          "base_uri": "https://localhost:8080/",
          "height": 102
        }
      },
      "source": [
        "nova_pagina.update_acell('a1', 120)"
      ],
      "execution_count": null,
      "outputs": [
        {
          "output_type": "execute_result",
          "data": {
            "text/plain": [
              "{'spreadsheetId': '19pRZ5GYD4cGGa-p2yoiuy05sKefT6w-XFUpi04jPlgE',\n",
              " 'updatedCells': 1,\n",
              " 'updatedColumns': 1,\n",
              " 'updatedRange': 'nova_pagina!A1',\n",
              " 'updatedRows': 1}"
            ]
          },
          "metadata": {
            "tags": []
          },
          "execution_count": 11
        }
      ]
    },
    {
      "cell_type": "markdown",
      "metadata": {
        "id": "Fr1mLethlDIF"
      },
      "source": [
        ">>`update_cell`: pelos números da linha e coluna"
      ]
    },
    {
      "cell_type": "code",
      "metadata": {
        "id": "1eU9gm3qZtya",
        "outputId": "c8872f71-dab5-4411-b07d-a9dbd03721e8",
        "colab": {
          "base_uri": "https://localhost:8080/",
          "height": 102
        }
      },
      "source": [
        "nova_pagina.update_cell(2,2, 'qualquer texto')"
      ],
      "execution_count": null,
      "outputs": [
        {
          "output_type": "execute_result",
          "data": {
            "text/plain": [
              "{'spreadsheetId': '19pRZ5GYD4cGGa-p2yoiuy05sKefT6w-XFUpi04jPlgE',\n",
              " 'updatedCells': 1,\n",
              " 'updatedColumns': 1,\n",
              " 'updatedRange': 'nova_pagina!B2',\n",
              " 'updatedRows': 1}"
            ]
          },
          "metadata": {
            "tags": []
          },
          "execution_count": 12
        }
      ]
    },
    {
      "cell_type": "markdown",
      "metadata": {
        "id": "tldCxUqWlQBc"
      },
      "source": [
        ">>`update_cells()`: por uma lista de valores"
      ]
    },
    {
      "cell_type": "code",
      "metadata": {
        "id": "ME3vC5O8bgR9",
        "outputId": "2c0ca856-00d5-45d9-88cb-356166f8e6f6",
        "colab": {
          "base_uri": "https://localhost:8080/",
          "height": 85
        }
      },
      "source": [
        "lista_cel = nova_pagina.range('a1:b2')\n",
        "lista_cel"
      ],
      "execution_count": null,
      "outputs": [
        {
          "output_type": "execute_result",
          "data": {
            "text/plain": [
              "[<Cell R1C1 '120'>,\n",
              " <Cell R1C2 ''>,\n",
              " <Cell R2C1 ''>,\n",
              " <Cell R2C2 'qualquer texto'>]"
            ]
          },
          "metadata": {
            "tags": []
          },
          "execution_count": 13
        }
      ]
    },
    {
      "cell_type": "code",
      "metadata": {
        "id": "fDF-oFOznejR",
        "outputId": "e13d8237-f8c4-46dd-884f-532e0b79836d",
        "colab": {
          "base_uri": "https://localhost:8080/",
          "height": 34
        }
      },
      "source": [
        "valores = ['a','b','c','d']\n",
        "\n",
        "for i, valor in enumerate(valores):\n",
        "  lista_cel[i].value = valor\n",
        "\n",
        "lista_cel"
      ],
      "execution_count": null,
      "outputs": [
        {
          "output_type": "execute_result",
          "data": {
            "text/plain": [
              "[<Cell R1C1 'a'>, <Cell R1C2 'b'>, <Cell R2C1 'c'>, <Cell R2C2 'd'>]"
            ]
          },
          "metadata": {
            "tags": []
          },
          "execution_count": 17
        }
      ]
    },
    {
      "cell_type": "code",
      "metadata": {
        "id": "litmy4_xnGKx",
        "outputId": "3e8f646c-1194-40c8-8fcb-390818279f3b",
        "colab": {
          "base_uri": "https://localhost:8080/",
          "height": 102
        }
      },
      "source": [
        "nova_pagina.update_cells(lista_cel)"
      ],
      "execution_count": null,
      "outputs": [
        {
          "output_type": "execute_result",
          "data": {
            "text/plain": [
              "{'spreadsheetId': '19pRZ5GYD4cGGa-p2yoiuy05sKefT6w-XFUpi04jPlgE',\n",
              " 'updatedCells': 4,\n",
              " 'updatedColumns': 2,\n",
              " 'updatedRange': 'nova_pagina!A1:B2',\n",
              " 'updatedRows': 2}"
            ]
          },
          "metadata": {
            "tags": []
          },
          "execution_count": 18
        }
      ]
    },
    {
      "cell_type": "code",
      "metadata": {
        "id": "_CqDZr8LAj-3"
      },
      "source": [
        ""
      ],
      "execution_count": null,
      "outputs": []
    },
    {
      "cell_type": "markdown",
      "metadata": {
        "id": "gcVRSFNPmnTB"
      },
      "source": [
        "###Carteira de Ações"
      ]
    },
    {
      "cell_type": "code",
      "metadata": {
        "id": "X7uTTvK2ocva"
      },
      "source": [
        "plan_carteira = gc.open('carteira')"
      ],
      "execution_count": 8,
      "outputs": []
    },
    {
      "cell_type": "markdown",
      "metadata": {
        "id": "4qjPfpRDmyxv"
      },
      "source": [
        ">Criando um DataFrame Pandas com uma planilha do Google Planilhas"
      ]
    },
    {
      "cell_type": "code",
      "metadata": {
        "id": "ooDFcrDbm2Dd"
      },
      "source": [
        "import pandas as pd"
      ],
      "execution_count": 9,
      "outputs": []
    },
    {
      "cell_type": "code",
      "metadata": {
        "id": "h5nZXPFRnfzp",
        "outputId": "e218db4c-07f5-45ab-ef4f-7cb7b8b76794",
        "colab": {
          "base_uri": "https://localhost:8080/",
          "height": 112
        }
      },
      "source": [
        "carteira = pd.DataFrame(plan_carteira.sheet1.get_all_records())\n",
        "carteira.set_index('Cod', inplace=True)\n",
        "\n",
        "carteira"
      ],
      "execution_count": 10,
      "outputs": [
        {
          "output_type": "execute_result",
          "data": {
            "text/html": [
              "<div>\n",
              "<style scoped>\n",
              "    .dataframe tbody tr th:only-of-type {\n",
              "        vertical-align: middle;\n",
              "    }\n",
              "\n",
              "    .dataframe tbody tr th {\n",
              "        vertical-align: top;\n",
              "    }\n",
              "\n",
              "    .dataframe thead th {\n",
              "        text-align: right;\n",
              "    }\n",
              "</style>\n",
              "<table border=\"1\" class=\"dataframe\">\n",
              "  <thead>\n",
              "    <tr style=\"text-align: right;\">\n",
              "      <th></th>\n",
              "      <th>Qte</th>\n",
              "      <th>Cotação</th>\n",
              "      <th>Entrada</th>\n",
              "      <th>Custo</th>\n",
              "      <th>No dia</th>\n",
              "      <th>Preço Atual</th>\n",
              "      <th>Lucro R$</th>\n",
              "      <th>Lucro %</th>\n",
              "    </tr>\n",
              "    <tr>\n",
              "      <th>Cod</th>\n",
              "      <th></th>\n",
              "      <th></th>\n",
              "      <th></th>\n",
              "      <th></th>\n",
              "      <th></th>\n",
              "      <th></th>\n",
              "      <th></th>\n",
              "      <th></th>\n",
              "    </tr>\n",
              "  </thead>\n",
              "  <tbody>\n",
              "    <tr>\n",
              "      <th>VALE3</th>\n",
              "      <td>200</td>\n",
              "      <td>44,66</td>\n",
              "      <td>54,33</td>\n",
              "      <td>10866</td>\n",
              "      <td>-4</td>\n",
              "      <td>8972</td>\n",
              "      <td>-1894</td>\n",
              "      <td>-17,43</td>\n",
              "    </tr>\n",
              "  </tbody>\n",
              "</table>\n",
              "</div>"
            ],
            "text/plain": [
              "       Qte Cotação Entrada  Custo  No dia  Preço Atual  Lucro R$ Lucro %\n",
              "Cod                                                                     \n",
              "VALE3  200   44,66   54,33  10866      -4         8972     -1894  -17,43"
            ]
          },
          "metadata": {
            "tags": []
          },
          "execution_count": 10
        }
      ]
    },
    {
      "cell_type": "markdown",
      "metadata": {
        "id": "lcysVrODm3L1"
      },
      "source": [
        "###Salvando cotações do Yahoo Finance"
      ]
    },
    {
      "cell_type": "markdown",
      "metadata": {
        "id": "PXXkHBJDnBn1"
      },
      "source": [
        ">Adicionando uma página à planilha"
      ]
    },
    {
      "cell_type": "code",
      "metadata": {
        "id": "VOwbyK4EnK0R",
        "outputId": "4248822a-b37d-4730-ff28-2e66f1255ec1",
        "colab": {
          "base_uri": "https://localhost:8080/"
        }
      },
      "source": [
        "plan_carteira.add_worksheet('Cotações Yahoo', 1500, 71)"
      ],
      "execution_count": 11,
      "outputs": [
        {
          "output_type": "execute_result",
          "data": {
            "text/plain": [
              "<Worksheet 'Cotações Yahoo' id:498928782>"
            ]
          },
          "metadata": {
            "tags": []
          },
          "execution_count": 11
        }
      ]
    },
    {
      "cell_type": "markdown",
      "metadata": {
        "id": "sv_-LjLynLqn"
      },
      "source": [
        ">Instalando o YFinance"
      ]
    },
    {
      "cell_type": "code",
      "metadata": {
        "id": "Ma4LCm2cnRIk",
        "outputId": "2b54986b-2193-4c1f-ca8f-25fccdb49da8",
        "colab": {
          "base_uri": "https://localhost:8080/"
        }
      },
      "source": [
        "!pip install yfinance"
      ],
      "execution_count": 20,
      "outputs": [
        {
          "output_type": "stream",
          "text": [
            "Requirement already satisfied: yfinance in /usr/local/lib/python3.6/dist-packages (0.1.55)\n",
            "Requirement already satisfied: requests>=2.20 in /usr/local/lib/python3.6/dist-packages (from yfinance) (2.23.0)\n",
            "Requirement already satisfied: pandas>=0.24 in /usr/local/lib/python3.6/dist-packages (from yfinance) (1.1.4)\n",
            "Requirement already satisfied: multitasking>=0.0.7 in /usr/local/lib/python3.6/dist-packages (from yfinance) (0.0.9)\n",
            "Requirement already satisfied: numpy>=1.15 in /usr/local/lib/python3.6/dist-packages (from yfinance) (1.18.5)\n",
            "Requirement already satisfied: lxml>=4.5.1 in /usr/local/lib/python3.6/dist-packages (from yfinance) (4.6.1)\n",
            "Requirement already satisfied: urllib3!=1.25.0,!=1.25.1,<1.26,>=1.21.1 in /usr/local/lib/python3.6/dist-packages (from requests>=2.20->yfinance) (1.24.3)\n",
            "Requirement already satisfied: idna<3,>=2.5 in /usr/local/lib/python3.6/dist-packages (from requests>=2.20->yfinance) (2.10)\n",
            "Requirement already satisfied: chardet<4,>=3.0.2 in /usr/local/lib/python3.6/dist-packages (from requests>=2.20->yfinance) (3.0.4)\n",
            "Requirement already satisfied: certifi>=2017.4.17 in /usr/local/lib/python3.6/dist-packages (from requests>=2.20->yfinance) (2020.6.20)\n",
            "Requirement already satisfied: pytz>=2017.2 in /usr/local/lib/python3.6/dist-packages (from pandas>=0.24->yfinance) (2018.9)\n",
            "Requirement already satisfied: python-dateutil>=2.7.3 in /usr/local/lib/python3.6/dist-packages (from pandas>=0.24->yfinance) (2.8.1)\n",
            "Requirement already satisfied: six>=1.5 in /usr/local/lib/python3.6/dist-packages (from python-dateutil>=2.7.3->pandas>=0.24->yfinance) (1.15.0)\n"
          ],
          "name": "stdout"
        }
      ]
    },
    {
      "cell_type": "code",
      "metadata": {
        "id": "YRs4eN89nlSc"
      },
      "source": [
        "import yfinance as yf"
      ],
      "execution_count": 21,
      "outputs": []
    },
    {
      "cell_type": "code",
      "metadata": {
        "id": "syEMASfNnlZl"
      },
      "source": [
        "tickers_ibov = \"ABEV3.SA AZUL4.SA B3SA3.SA BBAS3.SA BBDC4.SA BBSE3.SA BPAC11.SA BRAP4.SA BRDT3.SA BRFS3.SA BRKM5.SA BRML3.SA BTOW3.SA CCRO3.SA CIEL3.SA CMIG4.SA COGN3.SA CRFB3.SA CSAN3.SA CSNA3.SA CVCB3.SA CYRE3.SA ECOR3.SA EGIE3.SA ELET6.SA EMBR3.SA ENBR3.SA EQTL3.SA FLRY3.SA GGBR4.SA GNDI3.SA GOAU4.SA GOLL4.SA HAPV3.SA HGTX3.SA HYPE3.SA IGTA3.SA IRBR3.SA ITSA4.SA ITUB4.SA JBSS3.SA KLBN11.SA LAME4.SA LREN3.SA MGLU3.SA MRFG3.SA MRVE3.SA MULT3.SA NTCO3.SA PCAR4.SA PETR4.SA QUAL3.SA RADL3.SA RAIL3.SA RENT3.SA SANB11.SA SBSP3.SA SMLS3.SA SULA11.SA SUZB3.SA TAEE11.SA TIMP3.SA TOTS3.SA UGPA3.SA USIM5.SA VALE3.SA VIVT4.SA VVAR3.SA WEGE3.SA YDUQ3.SA\""
      ],
      "execution_count": 22,
      "outputs": []
    },
    {
      "cell_type": "code",
      "metadata": {
        "id": "7QI6aIV1nlfc",
        "outputId": "9b4abe9b-a624-410f-ebff-6d6ffaf67190",
        "colab": {
          "base_uri": "https://localhost:8080/"
        }
      },
      "source": [
        "dados_yf = yf.download(tickers=tickers_ibov, period='5y')[\"Adj Close\"]"
      ],
      "execution_count": 23,
      "outputs": [
        {
          "output_type": "stream",
          "text": [
            "[*********************100%***********************]  70 of 70 completed\n",
            "\n",
            "1 Failed download:\n",
            "- PCAR4.SA: No data found, symbol may be delisted\n"
          ],
          "name": "stdout"
        }
      ]
    },
    {
      "cell_type": "markdown",
      "metadata": {
        "id": "XLHQlDRfnUXr"
      },
      "source": [
        ">Selecionando a página criada"
      ]
    },
    {
      "cell_type": "code",
      "metadata": {
        "id": "hOLsAxLaDf9S"
      },
      "source": [
        ""
      ],
      "execution_count": 15,
      "outputs": []
    },
    {
      "cell_type": "code",
      "metadata": {
        "id": "dANyQ2b1nU9F"
      },
      "source": [
        "pagina_yahoo = plan_carteira.get_worksheet(1)"
      ],
      "execution_count": 24,
      "outputs": []
    },
    {
      "cell_type": "markdown",
      "metadata": {
        "id": "fHAEMXDrnYZY"
      },
      "source": [
        ">Instalando a biblioteca `gspread-dataframe`"
      ]
    },
    {
      "cell_type": "code",
      "metadata": {
        "id": "ib8F1f_TnZEN",
        "outputId": "ef6fcc31-6cfb-4326-91a1-7965e5814dfc",
        "colab": {
          "base_uri": "https://localhost:8080/"
        }
      },
      "source": [
        "!pip install gspread-dataframe"
      ],
      "execution_count": 25,
      "outputs": [
        {
          "output_type": "stream",
          "text": [
            "Requirement already satisfied: gspread-dataframe in /usr/local/lib/python3.6/dist-packages (3.0.8)\n",
            "Requirement already satisfied: gspread>=3.0.0 in /usr/local/lib/python3.6/dist-packages (from gspread-dataframe) (3.0.1)\n",
            "Requirement already satisfied: pandas>=0.14.0 in /usr/local/lib/python3.6/dist-packages (from gspread-dataframe) (1.1.4)\n",
            "Requirement already satisfied: requests>=2.2.1 in /usr/local/lib/python3.6/dist-packages (from gspread>=3.0.0->gspread-dataframe) (2.23.0)\n",
            "Requirement already satisfied: python-dateutil>=2.7.3 in /usr/local/lib/python3.6/dist-packages (from pandas>=0.14.0->gspread-dataframe) (2.8.1)\n",
            "Requirement already satisfied: pytz>=2017.2 in /usr/local/lib/python3.6/dist-packages (from pandas>=0.14.0->gspread-dataframe) (2018.9)\n",
            "Requirement already satisfied: numpy>=1.15.4 in /usr/local/lib/python3.6/dist-packages (from pandas>=0.14.0->gspread-dataframe) (1.18.5)\n",
            "Requirement already satisfied: chardet<4,>=3.0.2 in /usr/local/lib/python3.6/dist-packages (from requests>=2.2.1->gspread>=3.0.0->gspread-dataframe) (3.0.4)\n",
            "Requirement already satisfied: certifi>=2017.4.17 in /usr/local/lib/python3.6/dist-packages (from requests>=2.2.1->gspread>=3.0.0->gspread-dataframe) (2020.6.20)\n",
            "Requirement already satisfied: urllib3!=1.25.0,!=1.25.1,<1.26,>=1.21.1 in /usr/local/lib/python3.6/dist-packages (from requests>=2.2.1->gspread>=3.0.0->gspread-dataframe) (1.24.3)\n",
            "Requirement already satisfied: idna<3,>=2.5 in /usr/local/lib/python3.6/dist-packages (from requests>=2.2.1->gspread>=3.0.0->gspread-dataframe) (2.10)\n",
            "Requirement already satisfied: six>=1.5 in /usr/local/lib/python3.6/dist-packages (from python-dateutil>=2.7.3->pandas>=0.14.0->gspread-dataframe) (1.15.0)\n"
          ],
          "name": "stdout"
        }
      ]
    },
    {
      "cell_type": "code",
      "metadata": {
        "id": "DV3en5p0n1QJ"
      },
      "source": [
        "from gspread_dataframe import get_as_dataframe, set_with_dataframe"
      ],
      "execution_count": 26,
      "outputs": []
    },
    {
      "cell_type": "markdown",
      "metadata": {
        "id": "UJBePoaIn2lm"
      },
      "source": [
        ">Preenchendo os dados na planilha"
      ]
    },
    {
      "cell_type": "code",
      "metadata": {
        "id": "-c0Uem6Tn4Ut"
      },
      "source": [
        "set_with_dataframe(pagina_yahoo, dados_yf, include_index=True)"
      ],
      "execution_count": 28,
      "outputs": []
    },
    {
      "cell_type": "markdown",
      "metadata": {
        "id": "5FH62gxXoANy"
      },
      "source": [
        "###Dados Fundamentalistas"
      ]
    },
    {
      "cell_type": "code",
      "metadata": {
        "id": "cKYbBnjztaec"
      },
      "source": [
        "import requests"
      ],
      "execution_count": 34,
      "outputs": []
    },
    {
      "cell_type": "code",
      "metadata": {
        "id": "tfBjEIjsoD4F",
        "outputId": "5eea8d1f-b549-496b-94fe-dcb533303bb4",
        "colab": {
          "base_uri": "https://localhost:8080/"
        }
      },
      "source": [
        "plan_carteira.add_worksheet('fundamentus', 500, 20)"
      ],
      "execution_count": 29,
      "outputs": [
        {
          "output_type": "execute_result",
          "data": {
            "text/plain": [
              "<Worksheet 'fundamentus' id:1121439485>"
            ]
          },
          "metadata": {
            "tags": []
          },
          "execution_count": 29
        }
      ]
    },
    {
      "cell_type": "code",
      "metadata": {
        "id": "yvElrUO8oFN5"
      },
      "source": [
        "pagina_fundamentus = plan_carteira.get_worksheet(2)"
      ],
      "execution_count": 30,
      "outputs": []
    },
    {
      "cell_type": "code",
      "metadata": {
        "id": "mGc9yqFYoFT3"
      },
      "source": [
        "url = 'https://www.fundamentus.com.br/resultado.php'"
      ],
      "execution_count": 33,
      "outputs": []
    },
    {
      "cell_type": "code",
      "metadata": {
        "id": "kYH4bxEeoFZp"
      },
      "source": [
        "header = {\n",
        "\n",
        "  \"User-Agent\": \"Mozilla/5.0 (X11; Linux x86_64) AppleWebKit/537.36 (KHTML, like Gecko) Chrome/50.0.2661.75 Safari/537.36\",\n",
        "\n",
        "  \"X-Requested-With\": \"XMLHttpRequest\"\n",
        "\n",
        "}\n",
        "\n",
        "r = requests.get(url, headers=header)\n",
        "\n",
        "df = pd.read_html(r.text, decimal=',', thousands='.')[0]"
      ],
      "execution_count": 35,
      "outputs": []
    },
    {
      "cell_type": "code",
      "metadata": {
        "id": "lJylwqARoFfM"
      },
      "source": [
        "set_with_dataframe(pagina_fundamentus, df)"
      ],
      "execution_count": 36,
      "outputs": []
    },
    {
      "cell_type": "code",
      "metadata": {
        "id": "uvKZ_il-vZF_"
      },
      "source": [
        ""
      ],
      "execution_count": null,
      "outputs": []
    }
  ]
}